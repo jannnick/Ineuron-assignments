{
 "cells": [
  {
   "cell_type": "markdown",
   "metadata": {},
   "source": [
    "## Q1.1 Write a Python Program(with class concepts) to find the area of the triangle using the below formula.\n",
    "area = (s*(s-a)*(s-b)*(s-c)) ** 0.5\n",
    "Function to take the length of the sides of triangle from user should be defined in the parent\n",
    "class and function to calculate the area should be defined in subclass."
   ]
  },
  {
   "cell_type": "code",
   "execution_count": 14,
   "metadata": {},
   "outputs": [
    {
     "name": "stdout",
     "output_type": "stream",
     "text": [
      "Enter side a:3\n",
      "Enter side b:4\n",
      "Enter side c:5\n",
      "3024.0\n"
     ]
    }
   ],
   "source": [
    "def side_inputs():\n",
    "    side_a = int(input(\"Enter side a:\"))\n",
    "    side_b = int(input(\"Enter side b:\"))\n",
    "    side_c = int(input(\"Enter side c:\"))\n",
    "    return side_a, side_b, side_c\n",
    "\n",
    "def area(a, b, c):\n",
    "    s = (a+b+c)\n",
    "    tri_area = 0.5*(s*(s-a)*(s-b)*(s-c))\n",
    "    print(tri_area)\n",
    "         \n",
    "a,b,c = side_inputs()\n",
    "area(a,b,c)"
   ]
  },
  {
   "cell_type": "markdown",
   "metadata": {},
   "source": [
    "## Q1.2 Write a function filter_long_words() that takes a list of words and an integer n and returns the list of words that are longer than n."
   ]
  },
  {
   "cell_type": "code",
   "execution_count": 24,
   "metadata": {},
   "outputs": [
    {
     "name": "stdout",
     "output_type": "stream",
     "text": [
      "Give number:5\n",
      "Words longer than 5 letters are:\n",
      "banana\n",
      "carrot\n",
      "radish\n"
     ]
    }
   ],
   "source": [
    "def filter_long_words(mylist, n):\n",
    "    print (\"Words longer than\", n, \"letters are:\")\n",
    "    for i in mylist:\n",
    "          if (len(i)>n):\n",
    "            print (i)\n",
    "\n",
    "mylist = [\"abc\", \"apple\", \"banana\", \"carrot\", \"radish\"]\n",
    "n=int(input(\"Give number:\"))\n",
    "filter_long_words(mylist, n)"
   ]
  },
  {
   "cell_type": "markdown",
   "metadata": {},
   "source": [
    "## Q2.1 Write a Python program using function concept that maps list of words into a list of integers representing the lengths of the corresponding words. Hint: If a list [ ab,cde,erty] is passed on to the python function output should come as [2,3,4]. Here 2,3 and 4 are the lengths of the words in the list."
   ]
  },
  {
   "cell_type": "code",
   "execution_count": 25,
   "metadata": {},
   "outputs": [
    {
     "name": "stdout",
     "output_type": "stream",
     "text": [
      "2\n",
      "3\n",
      "4\n"
     ]
    }
   ],
   "source": [
    "def map_words_to_int(mylist):\n",
    "    for i in mylist:\n",
    "        print(len(i))\n",
    "        \n",
    "mylist = [\"ab\", \"cde\", \"erty\"]\n",
    "map_words_to_int(mylist)"
   ]
  },
  {
   "cell_type": "markdown",
   "metadata": {},
   "source": [
    "## Q2.2 Write a Python function which takes a character (i.e. a string of length 1) and returns True if it is a vowel, False otherwise."
   ]
  },
  {
   "cell_type": "code",
   "execution_count": 27,
   "metadata": {},
   "outputs": [
    {
     "name": "stdout",
     "output_type": "stream",
     "text": [
      "Enter character: t\n"
     ]
    },
    {
     "data": {
      "text/plain": [
       "False"
      ]
     },
     "execution_count": 27,
     "metadata": {},
     "output_type": "execute_result"
    }
   ],
   "source": [
    "def vowel_convert(character):\n",
    "    vowels = [\"a\", \"e\", \"i\", \"o\", \"u\"]\n",
    "    for i in vowels:\n",
    "        if (character == i):\n",
    "            return True\n",
    "        else:\n",
    "            return False\n",
    "\n",
    "string = input(\"Enter character: \")\n",
    "vowel_convert(string)"
   ]
  }
 ],
 "metadata": {
  "kernelspec": {
   "display_name": "Python 3",
   "language": "python",
   "name": "python3"
  },
  "language_info": {
   "codemirror_mode": {
    "name": "ipython",
    "version": 3
   },
   "file_extension": ".py",
   "mimetype": "text/x-python",
   "name": "python",
   "nbconvert_exporter": "python",
   "pygments_lexer": "ipython3",
   "version": "3.7.1"
  }
 },
 "nbformat": 4,
 "nbformat_minor": 2
}
