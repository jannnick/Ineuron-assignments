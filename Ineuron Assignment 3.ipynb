{
 "cells": [
  {
   "cell_type": "markdown",
   "metadata": {},
   "source": [
    "## Q1.1 Write a Python Program to implement your own myreduce() function which works exactly like Python's built-in function reduce()"
   ]
  },
  {
   "cell_type": "code",
   "execution_count": 15,
   "metadata": {},
   "outputs": [],
   "source": [
    "def my_reduce(function, iterable):\n",
    "    it = iter(iterable)\n",
    "    value = next(it)\n",
    "    for element in it:\n",
    "        value = function(value, element)\n",
    "    return value"
   ]
  },
  {
   "cell_type": "code",
   "execution_count": 19,
   "metadata": {},
   "outputs": [
    {
     "name": "stdout",
     "output_type": "stream",
     "text": [
      "15\n"
     ]
    }
   ],
   "source": [
    "lis = [1,2,3,4,5]\n",
    "print(my_reduce(lambda a,b: a+b, lis))"
   ]
  },
  {
   "cell_type": "code",
   "execution_count": 24,
   "metadata": {},
   "outputs": [
    {
     "name": "stdout",
     "output_type": "stream",
     "text": [
      "15\n"
     ]
    }
   ],
   "source": [
    "import functools\n",
    "lis = [1,2,3,4,5]\n",
    "print(functools.reduce(lambda a,b: a+b, lis))"
   ]
  },
  {
   "cell_type": "markdown",
   "metadata": {},
   "source": [
    "## Q1.2 Write a Python program to implement your own myfilter() function which works exactly like Python's built-in function filter()"
   ]
  },
  {
   "cell_type": "code",
   "execution_count": 22,
   "metadata": {},
   "outputs": [
    {
     "name": "stdout",
     "output_type": "stream",
     "text": [
      "a\n",
      "i\n"
     ]
    }
   ],
   "source": [
    "letters = ['a','b','i','c','d']\n",
    "def filter_vowels(letter):\n",
    "    vowels =['a','e','i','o','u']\n",
    "    if letter in vowels:\n",
    "        return True\n",
    "    else:\n",
    "        return False\n",
    "    \n",
    "def myfilter(function, letters):\n",
    "    if function is None:\n",
    "        function = bool\n",
    "    for x in letters:\n",
    "        if function(x):\n",
    "            yield x\n",
    "            \n",
    "filtered_vowels = myfilter(filter_vowels, letters)\n",
    "for vowel in filtered_vowels:\n",
    "    print (vowel)"
   ]
  },
  {
   "cell_type": "code",
   "execution_count": 23,
   "metadata": {},
   "outputs": [
    {
     "name": "stdout",
     "output_type": "stream",
     "text": [
      "a\n",
      "i\n"
     ]
    }
   ],
   "source": [
    "letters = ['a','b','i','c','d']\n",
    "def filter_vowels(letter):\n",
    "    vowels =['a','e','i','o','u']\n",
    "    if letter in vowels:\n",
    "        return True\n",
    "    else:\n",
    "        return False\n",
    "                \n",
    "filtered_vowels = filter(filter_vowels, letters)\n",
    "for vowel in filtered_vowels:\n",
    "    print (vowel)"
   ]
  },
  {
   "cell_type": "markdown",
   "metadata": {},
   "source": [
    "## Q2 Implement List comprehensions to produce the following lists. Write List comprehensions to produce the following Lists\n",
    "\n",
    "['x', 'xx', 'xxx', 'xxxx', 'y', 'yy', 'yyy', 'yyyy', 'z', 'zz', 'zzz', 'zzzz']\n",
    "['x', 'y', 'z', 'xx', 'yy', 'zz', 'xxx', 'yyy', 'zzz', 'xxxx', 'yyyy', 'zzzz']\n",
    "[[2], [3], [4], [3], [4], [5], [4], [5], [6]] [[2, 3, 4, 5], [3, 4, 5, 6],\n",
    "[4, 5, 6, 7], [5, 6, 7, 8]]\n",
    "[(1, 1), (2, 1), (3, 1), (1, 2), (2, 2), (3, 2), (1, 3), (2, 3), (3, 3)]"
   ]
  },
  {
   "cell_type": "code",
   "execution_count": 67,
   "metadata": {},
   "outputs": [
    {
     "data": {
      "text/plain": [
       "([('x', 'xx', 'xxx', 'xxxx'),\n",
       "  ('y', 'yy', 'yyy', 'yyyy'),\n",
       "  ('z', 'zz', 'zzz', 'zzzz')],\n",
       " [['x', 'y', 'z'],\n",
       "  ['xx', 'yy', 'zz'],\n",
       "  ['xxx', 'yyy', 'zzz'],\n",
       "  ['xxxx', 'yyyy', 'zzzz']])"
      ]
     },
     "execution_count": 67,
     "metadata": {},
     "output_type": "execute_result"
    }
   ],
   "source": [
    "lis = ['x', 'y', 'z']\n",
    "listcomp1 = [(i, 2*i, 3*i, 4*i) for i in lis]\n",
    "listcomp2 = [([(i*j) for i in lis]) for j in (1, 2, 3, 4)]\n",
    "listcomp1, listcomp2"
   ]
  },
  {
   "cell_type": "code",
   "execution_count": 68,
   "metadata": {},
   "outputs": [
    {
     "data": {
      "text/plain": [
       "([([2], [3], [4]), ([3], [4], [5]), ([4], [5], [6])],\n",
       " [(2, 3, 4, 5), (3, 4, 5, 6), (4, 5, 6, 7), (5, 6, 7, 8)])"
      ]
     },
     "execution_count": 68,
     "metadata": {},
     "output_type": "execute_result"
    }
   ],
   "source": [
    "listcomp3 = [([i], [i+1], [i+2]) for i in (2, 3, 4)]\n",
    "listcomp4 = [(i, i+1, i+2, i+3) for i in (2, 3, 4, 5)]\n",
    "listcomp3, listcomp4"
   ]
  },
  {
   "cell_type": "code",
   "execution_count": 69,
   "metadata": {},
   "outputs": [
    {
     "data": {
      "text/plain": [
       "[[(1, 1), (2, 1), (3, 1)], [(1, 2), (2, 2), (3, 2)], [(1, 3), (2, 3), (3, 3)]]"
      ]
     },
     "execution_count": 69,
     "metadata": {},
     "output_type": "execute_result"
    }
   ],
   "source": [
    "listcomp5 = [[(1,i),(2,i),(3,i)] for i in (1, 2, 3)]\n",
    "listcomp5"
   ]
  }
 ],
 "metadata": {
  "kernelspec": {
   "display_name": "Python 3",
   "language": "python",
   "name": "python3"
  },
  "language_info": {
   "codemirror_mode": {
    "name": "ipython",
    "version": 3
   },
   "file_extension": ".py",
   "mimetype": "text/x-python",
   "name": "python",
   "nbconvert_exporter": "python",
   "pygments_lexer": "ipython3",
   "version": "3.7.1"
  }
 },
 "nbformat": 4,
 "nbformat_minor": 2
}
